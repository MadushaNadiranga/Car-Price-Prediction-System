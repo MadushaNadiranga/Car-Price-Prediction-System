{
 "cells": [
  {
   "cell_type": "code",
   "execution_count": 1,
   "id": "1f60ba02",
   "metadata": {},
   "outputs": [
    {
     "name": "stdout",
     "output_type": "stream",
     "text": [
      "Model loaded successfully.\n"
     ]
    }
   ],
   "source": [
    "import joblib\n",
    "import pandas as pd\n",
    "\n",
    "# Load saved tuned Random Forest\n",
    "model = joblib.load('../models/tuned_random_forest.pkl')\n",
    "\n",
    "print(\"Model loaded successfully.\")\n"
   ]
  },
  {
   "cell_type": "code",
   "execution_count": 2,
   "id": "a315fd18",
   "metadata": {},
   "outputs": [
    {
     "name": "stdout",
     "output_type": "stream",
     "text": [
      "           model  year motor_type wheel  color   type     status  \\\n",
      "0  mercedes-benz  2019     petrol  left  black  sedan  excellent   \n",
      "\n",
      "   motor_volume  running_km  \n",
      "0           2.0       50000  \n"
     ]
    }
   ],
   "source": [
    "# Example new car specs\n",
    "new_car = {\n",
    "    'model': 'mercedes-benz',\n",
    "    'year': 2019,\n",
    "    'motor_type': 'petrol',\n",
    "    'wheel': 'left',\n",
    "    'color': 'black',\n",
    "    'type': 'sedan',\n",
    "    'status': 'excellent',\n",
    "    'motor_volume': 2.0,\n",
    "    'running_km': 50000,\n",
    "    # Add any other encoded/dummy features if you used them!\n",
    "}\n",
    "\n",
    "# Convert to DataFrame\n",
    "new_car_df = pd.DataFrame([new_car])\n",
    "print(new_car_df)\n"
   ]
  },
  {
   "cell_type": "code",
   "execution_count": 3,
   "id": "d2b038f5",
   "metadata": {},
   "outputs": [],
   "source": [
    "# Recreate the same features\n",
    "df = pd.read_csv('../data/preprocessed_data.csv')\n",
    "X_columns = df.drop(['price', 'running'], axis=1).columns\n"
   ]
  },
  {
   "cell_type": "code",
   "execution_count": 4,
   "id": "86e21353",
   "metadata": {},
   "outputs": [
    {
     "name": "stdout",
     "output_type": "stream",
     "text": [
      "   year  motor_volume  model_kia  model_mercedes-benz  model_nissan  \\\n",
      "0  2019           2.0          0                 True             0   \n",
      "\n",
      "   model_toyota  motor_type_gas  motor_type_hybrid  motor_type_petrol  \\\n",
      "0             0               0                  0               True   \n",
      "\n",
      "   motor_type_petrol and gas  ...  type_Universal  type_hatchback  \\\n",
      "0                          0  ...               0               0   \n",
      "\n",
      "   type_minivan / minibus  type_pickup  type_sedan  type_suv  \\\n",
      "0                       0            0        True         0   \n",
      "\n",
      "   status_excellent  status_good  status_new  status_normal  \n",
      "0              True            0           0              0  \n",
      "\n",
      "[1 rows x 36 columns]\n"
     ]
    }
   ],
   "source": [
    "# Apply same encoding\n",
    "new_car_encoded = pd.get_dummies(new_car_df)\n",
    "# Add missing columns if any\n",
    "for col in X_columns:\n",
    "    if col not in new_car_encoded.columns:\n",
    "        new_car_encoded[col] = 0\n",
    "\n",
    "# Ensure same order\n",
    "new_car_encoded = new_car_encoded[X_columns]\n",
    "\n",
    "print(new_car_encoded)\n"
   ]
  },
  {
   "cell_type": "code",
   "execution_count": 5,
   "id": "81fa8780",
   "metadata": {},
   "outputs": [
    {
     "name": "stdout",
     "output_type": "stream",
     "text": [
      "Predicted car price: $26,142.84\n"
     ]
    }
   ],
   "source": [
    "predicted_price = model.predict(new_car_encoded)\n",
    "print(f\"Predicted car price: ${predicted_price[0]:,.2f}\")\n"
   ]
  },
  {
   "cell_type": "code",
   "execution_count": 6,
   "id": "d90cc031",
   "metadata": {},
   "outputs": [
    {
     "name": "stdout",
     "output_type": "stream",
     "text": [
      "Car 1 predicted price: $19,079.63\n",
      "Car 2 predicted price: $13,972.93\n"
     ]
    }
   ],
   "source": [
    "# Example batch of cars\n",
    "new_cars = [\n",
    "    {\n",
    "        'model': 'toyota',\n",
    "        'year': 2020,\n",
    "        'motor_type': 'petrol',\n",
    "        'wheel': 'left',\n",
    "        'color': 'white',\n",
    "        'type': 'hatchback',\n",
    "        'status': 'good',\n",
    "        'motor_volume': 1.5,\n",
    "        'running_km': 30000,\n",
    "    },\n",
    "    {\n",
    "        'model': 'kia',\n",
    "        'year': 2018,\n",
    "        'motor_type': 'diesel',\n",
    "        'wheel': 'left',\n",
    "        'color': 'blue',\n",
    "        'type': 'sedan',\n",
    "        'status': 'excellent',\n",
    "        'motor_volume': 2.0,\n",
    "        'running_km': 75000,\n",
    "    }\n",
    "]\n",
    "\n",
    "new_cars_df = pd.DataFrame(new_cars)\n",
    "\n",
    "# Same encoding fix\n",
    "new_cars_encoded = pd.get_dummies(new_cars_df)\n",
    "for col in X_columns:\n",
    "    if col not in new_cars_encoded.columns:\n",
    "        new_cars_encoded[col] = 0\n",
    "new_cars_encoded = new_cars_encoded[X_columns]\n",
    "\n",
    "# Predict batch\n",
    "predicted_prices = model.predict(new_cars_encoded)\n",
    "\n",
    "for i, price in enumerate(predicted_prices):\n",
    "    print(f\"Car {i+1} predicted price: ${price:,.2f}\")\n"
   ]
  }
 ],
 "metadata": {
  "kernelspec": {
   "display_name": "car-price-env",
   "language": "python",
   "name": "python3"
  },
  "language_info": {
   "codemirror_mode": {
    "name": "ipython",
    "version": 3
   },
   "file_extension": ".py",
   "mimetype": "text/x-python",
   "name": "python",
   "nbconvert_exporter": "python",
   "pygments_lexer": "ipython3",
   "version": "3.12.4"
  }
 },
 "nbformat": 4,
 "nbformat_minor": 5
}
