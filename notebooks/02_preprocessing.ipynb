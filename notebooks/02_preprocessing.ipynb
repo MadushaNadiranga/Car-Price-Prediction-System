{
 "cells": [
  {
   "cell_type": "code",
   "execution_count": 2,
   "id": "2015ab3a",
   "metadata": {},
   "outputs": [
    {
     "name": "stdout",
     "output_type": "stream",
     "text": [
      "           model  year motor_type        running wheel    color   type  \\\n",
      "0         toyota  2022     petrol       3000  km  left  skyblue  sedan   \n",
      "1  mercedes-benz  2014     petrol     132000  km  left    black  sedan   \n",
      "2            kia  2018     petrol   95000  miles  left    other  sedan   \n",
      "3  mercedes-benz  2002     petrol  137000  miles  left   golden  sedan   \n",
      "4  mercedes-benz  2017     petrol     130000  km  left    black  sedan   \n",
      "\n",
      "      status  motor_volume  price  \n",
      "0  excellent           2.0  24500  \n",
      "1  excellent           2.0  25500  \n",
      "2  excellent           2.0  11700  \n",
      "3  excellent           3.2  12000  \n",
      "4       good           2.0  26000  \n",
      "<class 'pandas.core.frame.DataFrame'>\n",
      "RangeIndex: 1642 entries, 0 to 1641\n",
      "Data columns (total 10 columns):\n",
      " #   Column        Non-Null Count  Dtype  \n",
      "---  ------        --------------  -----  \n",
      " 0   model         1642 non-null   object \n",
      " 1   year          1642 non-null   int64  \n",
      " 2   motor_type    1642 non-null   object \n",
      " 3   running       1642 non-null   object \n",
      " 4   wheel         1642 non-null   object \n",
      " 5   color         1642 non-null   object \n",
      " 6   type          1642 non-null   object \n",
      " 7   status        1642 non-null   object \n",
      " 8   motor_volume  1642 non-null   float64\n",
      " 9   price         1642 non-null   int64  \n",
      "dtypes: float64(1), int64(2), object(7)\n",
      "memory usage: 128.4+ KB\n",
      "None\n"
     ]
    }
   ],
   "source": [
    "import pandas as pd\n",
    "\n",
    "df = pd.read_csv('../data/car-price-prediction-x/train.csv')\n",
    "\n",
    "print(df.head())\n",
    "print(df.info())\n"
   ]
  },
  {
   "cell_type": "code",
   "execution_count": 3,
   "id": "ae99478a",
   "metadata": {},
   "outputs": [
    {
     "name": "stdout",
     "output_type": "stream",
     "text": [
      "model          5\n",
      "motor_type     5\n",
      "wheel          1\n",
      "color         17\n",
      "type           7\n",
      "status         5\n",
      "dtype: int64\n"
     ]
    }
   ],
   "source": [
    "categorical_cols = ['model', 'motor_type', 'wheel', 'color', 'type', 'status']\n",
    "print(df[categorical_cols].nunique())\n"
   ]
  },
  {
   "cell_type": "code",
   "execution_count": 4,
   "id": "48c8ced7",
   "metadata": {},
   "outputs": [
    {
     "name": "stdout",
     "output_type": "stream",
     "text": [
      "model          5\n",
      "motor_type     5\n",
      "wheel          1\n",
      "color         17\n",
      "type           7\n",
      "status         5\n",
      "dtype: int64\n"
     ]
    }
   ],
   "source": [
    "categorical_cols = ['model', 'motor_type', 'wheel', 'color', 'type', 'status']\n",
    "print(df[categorical_cols].nunique())\n"
   ]
  },
  {
   "cell_type": "code",
   "execution_count": 5,
   "id": "9090a43b",
   "metadata": {},
   "outputs": [
    {
     "name": "stdout",
     "output_type": "stream",
     "text": [
      "         running  running_km\n",
      "0       3000  km     3000.00\n",
      "1     132000  km   132000.00\n",
      "2   95000  miles   152887.30\n",
      "3  137000  miles   220479.58\n",
      "4     130000  km   130000.00\n"
     ]
    }
   ],
   "source": [
    "# ✅ Step 1 — Convert running to numeric KM\n",
    "def convert_running(val):\n",
    "    val = val.lower().strip()\n",
    "    if 'km' in val:\n",
    "        return float(val.replace('km', '').replace(',', '').strip())\n",
    "    elif 'miles' in val:\n",
    "        return float(val.replace('miles', '').replace(',', '').strip()) * 1.60934\n",
    "    else:\n",
    "        return 0  # or np.nan\n",
    "\n",
    "df['running_km'] = df['running'].apply(convert_running)\n",
    "\n",
    "print(df[['running', 'running_km']].head())\n"
   ]
  },
  {
   "cell_type": "code",
   "execution_count": 6,
   "id": "6be3104b",
   "metadata": {},
   "outputs": [],
   "source": [
    "# Now dummy encode\n",
    "df_encoded = pd.get_dummies(\n",
    "    df.drop(columns=['running']),  # drop raw text column if not needed\n",
    "    columns=['model', 'motor_type', 'wheel', 'color', 'type', 'status'],\n",
    "    drop_first=True\n",
    ")\n",
    "\n",
    "df_encoded.to_csv('../data/preprocessed_data.csv', index=False)\n"
   ]
  },
  {
   "cell_type": "code",
   "execution_count": null,
   "id": "043b43b3",
   "metadata": {},
   "outputs": [],
   "source": [
    "# Save preprocessed dataset\n",
    "\n",
    "df_encoded = pd.get_dummies(df, columns=['model', 'motor_type', 'wheel', 'color', 'type', 'status'], drop_first=True)\n",
    "df_encoded.to_csv('../data/preprocessed_data.csv', index=False)\n"
   ]
  },
  {
   "cell_type": "code",
   "execution_count": 7,
   "id": "694895bd",
   "metadata": {},
   "outputs": [],
   "source": [
    "df = pd.read_csv('../data/preprocessed_data.csv')\n"
   ]
  },
  {
   "cell_type": "code",
   "execution_count": 8,
   "id": "a395b3e9",
   "metadata": {},
   "outputs": [],
   "source": [
    "from sklearn.preprocessing import StandardScaler\n",
    "scaler = StandardScaler()\n",
    "df['running_km_scaled'] = scaler.fit_transform(df[['running_km']])\n"
   ]
  },
  {
   "cell_type": "code",
   "execution_count": 9,
   "id": "a6566b9f",
   "metadata": {},
   "outputs": [],
   "source": [
    "X = df[['year', 'motor_volume', 'running_km_scaled']]  # plus dummies\n",
    "X = X.join(df.drop(columns=['year', 'motor_volume', 'running_km_scaled', 'price']))\n",
    "\n",
    "y = df['price']\n",
    "\n",
    "# Split, train, save...\n"
   ]
  }
 ],
 "metadata": {
  "kernelspec": {
   "display_name": "car-price-env",
   "language": "python",
   "name": "python3"
  },
  "language_info": {
   "codemirror_mode": {
    "name": "ipython",
    "version": 3
   },
   "file_extension": ".py",
   "mimetype": "text/x-python",
   "name": "python",
   "nbconvert_exporter": "python",
   "pygments_lexer": "ipython3",
   "version": "3.12.4"
  }
 },
 "nbformat": 4,
 "nbformat_minor": 5
}
